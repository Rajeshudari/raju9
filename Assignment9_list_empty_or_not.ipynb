In [6]:
n=int(input("enter the number of elements in the list"))
lst=[]
for i in range(0, n): 
    ele = int(input("enter the element"))
    lst.append(ele)
if not lst:
  print("List is empty")
else:
  print("List is not empty")
enter the number of elements in the list0
List is empty
