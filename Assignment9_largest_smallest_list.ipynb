In [2]:
n=int(input("enter the number of elements in the list"))
lst=[]
for i in range(0, n): 
    ele = input("enter the element") 
    lst.append(ele)
print("The largest value in the list is",max(lst))
print("The smallest value in the list is",min(lst))
enter the number of elements in the list5
enter the element12
enter the element45
enter the element98
enter the element1
enter the element56
The largest value in the list is 98
The smallest value in the list is 1
