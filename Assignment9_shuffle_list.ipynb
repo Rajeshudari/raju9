In [4]:
from random import shuffle
n=int(input("enter the number of elements in the list"))
lst=[]
for i in range(0, n): 
    ele = int(input("enter the element"))
    lst.append(ele)
shuffle(lst)
print(lst)
enter the number of elements in the list5
enter the element12
enter the element32
enter the element63
enter the element65
enter the element92
[92, 63, 12, 32, 65]
