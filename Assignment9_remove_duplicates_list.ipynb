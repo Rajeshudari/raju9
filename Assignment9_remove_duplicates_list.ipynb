In [3]:
n=int(input("enter the number of elements in the list"))
lst=[]
for i in range(0, n): 
    ele = int(input("enter the element"))
    lst.append(ele)
mylist=[]
for item in lst:
    if item not in mylist:
        mylist.append(item)
print(mylist)
enter the number of elements in the list5
enter the element12
enter the element56
enter the element98
enter the element12
enter the element76
[12, 56, 98, 76]
