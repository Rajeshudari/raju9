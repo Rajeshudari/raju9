In [1]:
n=int(input("enter the number of elements in the list"))
lst=[]
for i in range(0, n): 
    ele = int(input("enter the element")) 
    lst.append(ele)
print(lst*4)
enter the number of elements in the list4
enter the element1
enter the element2
enter the element3
enter the element4
[1, 2, 3, 4, 1, 2, 3, 4, 1, 2, 3, 4, 1, 2, 3, 4]
