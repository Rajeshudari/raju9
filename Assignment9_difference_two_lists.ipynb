In [1]:
def Diff(li1, li2): 
    return (list(set(li1) - set(li2)))  
n=int(input("enter the number of elements in the list1"))
li1=[]
for i in range(0, n): 
    ele = int(input("enter the element"))
    li1.append(ele)
n=int(input("enter the number of elements in the list2"))
li2=[]
for i in range(0, n): 
    ele = int(input("enter the element"))
    li2.append(ele)
print(Diff(li1, li2))
enter the number of elements in the list15
enter the element11
enter the element22
enter the element33
enter the element44
enter the element55
enter the number of elements in the list25
enter the element44
enter the element55
enter the element96
enter the element87
enter the element32
[33, 11, 22]
